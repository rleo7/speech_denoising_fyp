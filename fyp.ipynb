{
 "cells": [
  {
   "cell_type": "code",
   "execution_count": 2,
   "metadata": {},
   "outputs": [
    {
     "name": "stdout",
     "output_type": "stream",
     "text": [
      "Requirement already satisfied: torch==2.6.0 in .\\venv\\lib\\site-packages (from -r requirements.txt (line 1)) (2.6.0)Note: you may need to restart the kernel to use updated packages.\n"
     ]
    },
    {
     "name": "stderr",
     "output_type": "stream",
     "text": [
      "\n",
      "[notice] A new release of pip is available: 23.2.1 -> 25.0.1\n",
      "[notice] To update, run: python.exe -m pip install --upgrade pip\n"
     ]
    },
    {
     "name": "stdout",
     "output_type": "stream",
     "text": [
      "\n",
      "Requirement already satisfied: torchaudio==2.6.0 in .\\venv\\lib\\site-packages (from -r requirements.txt (line 2)) (2.6.0)\n",
      "Requirement already satisfied: numpy==2.2.3 in .\\venv\\lib\\site-packages (from -r requirements.txt (line 3)) (2.2.3)\n",
      "Requirement already satisfied: pystoi==0.4.1 in .\\venv\\lib\\site-packages (from -r requirements.txt (line 4)) (0.4.1)\n",
      "Requirement already satisfied: pesq==0.0.4 in .\\venv\\lib\\site-packages (from -r requirements.txt (line 5)) (0.0.4)\n",
      "Requirement already satisfied: filelock in .\\venv\\lib\\site-packages (from torch==2.6.0->-r requirements.txt (line 1)) (3.17.0)\n",
      "Requirement already satisfied: typing-extensions>=4.10.0 in .\\venv\\lib\\site-packages (from torch==2.6.0->-r requirements.txt (line 1)) (4.12.2)\n",
      "Requirement already satisfied: networkx in .\\venv\\lib\\site-packages (from torch==2.6.0->-r requirements.txt (line 1)) (3.4.2)\n",
      "Requirement already satisfied: jinja2 in .\\venv\\lib\\site-packages (from torch==2.6.0->-r requirements.txt (line 1)) (3.1.5)\n",
      "Requirement already satisfied: fsspec in .\\venv\\lib\\site-packages (from torch==2.6.0->-r requirements.txt (line 1)) (2025.2.0)\n",
      "Requirement already satisfied: setuptools in .\\venv\\lib\\site-packages (from torch==2.6.0->-r requirements.txt (line 1)) (75.8.0)\n",
      "Requirement already satisfied: sympy==1.13.1 in .\\venv\\lib\\site-packages (from torch==2.6.0->-r requirements.txt (line 1)) (1.13.1)\n",
      "Requirement already satisfied: scipy in .\\venv\\lib\\site-packages (from pystoi==0.4.1->-r requirements.txt (line 4)) (1.15.1)\n",
      "Requirement already satisfied: mpmath<1.4,>=1.1.0 in .\\venv\\lib\\site-packages (from sympy==1.13.1->torch==2.6.0->-r requirements.txt (line 1)) (1.3.0)\n",
      "Requirement already satisfied: MarkupSafe>=2.0 in .\\venv\\lib\\site-packages (from jinja2->torch==2.6.0->-r requirements.txt (line 1)) (3.0.2)\n"
     ]
    }
   ],
   "source": [
    "%pip install -r requirements.txt"
   ]
  },
  {
   "cell_type": "code",
   "execution_count": null,
   "metadata": {},
   "outputs": [],
   "source": [
    "import torch\n",
    "import torchaudio\n",
    "import torchaudio.functional as audioF\n",
    "\n",
    "import numpy as np\n",
    "\n",
    "import os\n",
    "import glob\n",
    "import random"
   ]
  },
  {
   "cell_type": "markdown",
   "metadata": {},
   "source": [
    "# Utility"
   ]
  },
  {
   "cell_type": "code",
   "execution_count": null,
   "metadata": {},
   "outputs": [],
   "source": [
    "import pystoi\n",
    "import pesq\n",
    "\n",
    "\n",
    "def combine_audio(speech: torch.Tensor, noise: torch.Tensor, snr: torch.Tensor):\n",
    "    return audioF.add_noise(speech, noise, snr)\n",
    "\n",
    "def calc_pesq(speech: np.ndarray, processed: np.ndarray) -> float:\n",
    "    return pesq.pesq(fs=16000,ref=speech,deg=processed)\n",
    "\n",
    "def calc_stoi(speech: np.ndarray, processed: np.ndarray) -> float:\n",
    "    return pystoi.stoi(x=speech,y=processed,fs_sig=16000)"
   ]
  },
  {
   "cell_type": "code",
   "execution_count": null,
   "metadata": {},
   "outputs": [],
   "source": [
    "from torch.utils.data import Dataset\n",
    "class AudioDataset(Dataset):\n",
    "    def __init__(self, dir, root_dir=None):\n",
    "        self.root_dir = root_dir\n",
    "        if root_dir==None:\n",
    "            self.root_dir = os.getcwd()+\"\\\\data\"\n",
    "        self.data = glob.glob(dir,root_dir=root_dir)\n",
    "    \n",
    "    def __len__(self):\n",
    "        return len(self.data)\n",
    "    \n",
    "    def __getitem__(self, idx):\n",
    "        wave, _ = torchaudio.load(self.root_dir + \"\\\\\" + self.data[idx],normalize=False, format=\"wav\")\n",
    "        return wave\n",
    "\n",
    "class AudioCombiner():\n",
    "    def __init__(self, speech_ds: AudioDataset, noise_ds: AudioDataset):\n",
    "        self.idx = 0\n",
    "        self.speech_ds = speech_ds\n",
    "        self.noise_ds = noise_ds\n",
    "\n",
    "    def next(self, snr):\n",
    "        self.idx += 1\n",
    "        if self.idx >= len(self.speech_ds):\n",
    "            raise IndexError(f\"Index {self.idx} out of bounds of speech dataset ({len(self.speech_ds)}).\")\n",
    "        speech = self.speech_ds.__getitem__(self.idx)\n",
    "        noise = self.noise_ds.__getitem__(random.randint(0,len(self.noise_ds)-1))\n",
    "        return audioF.add_noise(speech, noise, torch.tensor(snr))\n",
    "\n",
    "    def set_index(self, idx):\n",
    "        self.idx = idx\n",
    "\n",
    "        \n",
    "    \n",
    "speech_train_dataset = AudioDataset(\"speech\\\\train\")\n",
    "noise_train_dataset = AudioDataset(\"noise\\\\train\")"
   ]
  },
  {
   "cell_type": "markdown",
   "metadata": {},
   "source": [
    "# Models"
   ]
  },
  {
   "cell_type": "code",
   "execution_count": null,
   "metadata": {},
   "outputs": [],
   "source": [
    "import tqdm"
   ]
  },
  {
   "cell_type": "markdown",
   "metadata": {},
   "source": [
    "## SEGAN"
   ]
  },
  {
   "cell_type": "code",
   "execution_count": null,
   "metadata": {},
   "outputs": [],
   "source": [
    "def segan_train()"
   ]
  },
  {
   "cell_type": "markdown",
   "metadata": {},
   "source": [
    "## WaveCRN"
   ]
  },
  {
   "cell_type": "code",
   "execution_count": null,
   "metadata": {},
   "outputs": [],
   "source": []
  },
  {
   "cell_type": "markdown",
   "metadata": {},
   "source": []
  }
 ],
 "metadata": {
  "kernelspec": {
   "display_name": "venv",
   "language": "python",
   "name": "python3"
  },
  "language_info": {
   "codemirror_mode": {
    "name": "ipython",
    "version": 3
   },
   "file_extension": ".py",
   "mimetype": "text/x-python",
   "name": "python",
   "nbconvert_exporter": "python",
   "pygments_lexer": "ipython3",
   "version": "3.12.0"
  }
 },
 "nbformat": 4,
 "nbformat_minor": 2
}
