{
 "cells": [
  {
   "cell_type": "code",
   "execution_count": null,
   "metadata": {},
   "outputs": [],
   "source": [
    "#!conda env update --file environment.yml --prune"
   ]
  },
  {
   "cell_type": "markdown",
   "metadata": {},
   "source": [
    "Using sorted batching, e.g:\n",
    "each librispeech wav will be treated separately to others in its same parent folder.\n",
    "wavs will be sorted by duration"
   ]
  },
  {
   "cell_type": "code",
   "execution_count": 13,
   "metadata": {},
   "outputs": [],
   "source": [
    "import os, random, glob, ntpath\n",
    "import numpy as np\n",
    "\n",
    "import torch, torchaudio\n",
    "import torchaudio.functional as F\n",
    "from IPython.display import Audio\n",
    "\n",
    "from tqdm import tqdm\n",
    "\n",
    "mode = \"train\"\n",
    "\n",
    "speech_list = glob.glob(\"data/speech/\" + mode + \"**/*.wav\",recursive=True)\n",
    "noise_list = glob.glob(\"data/noise/\" + mode + \"**/*.wav\",recursive=True)"
   ]
  },
  {
   "cell_type": "markdown",
   "metadata": {},
   "source": [
    "Basic"
   ]
  },
  {
   "cell_type": "code",
   "execution_count": null,
   "metadata": {},
   "outputs": [],
   "source": [
    "for speech_file in speech_list:\n",
    "\tsnr = random.randint(-1,2) * 5\n",
    "\tnoise_file = random.choice(noise_list)\t\n",
    "\n",
    "\tspeech_name = ntpath.basename(speech_file).removesuffix(\".wav\")\n",
    "\tnoise_name = ntpath.basename(noise_file).removesuffix(\".wav\")\n",
    "\toutput_path = f\"{\"data/mixed/\"+mode}/{speech_name}_{noise_name}_{snr}.wav\"\n",
    "\n",
    "\tspeech,_ = torchaudio.load(\"data/speech/train/test.wav\")\n",
    "\tnoise,_ = torchaudio.load(\"data/noise/train/ch01.wav\")\n",
    "\tnoise = noise[:,: speech.shape[1]]\n",
    "\tsnr = torch.tensor(snr)\n",
    "\tmixed = F.add_noise(speech, noise, snr)\n",
    "\n",
    "\ttorchaudio.save(output_path,mixed,sample_rate=16000, format=\"wav\", encoding=\"PCM_S\")"
   ]
  },
  {
   "cell_type": "markdown",
   "metadata": {},
   "source": [
    "Sorted"
   ]
  },
  {
   "cell_type": "code",
   "execution_count": null,
   "metadata": {},
   "outputs": [],
   "source": [
    "max_samples = 100\n",
    "is_descending = True\n",
    "# rnd_seed = 42\n",
    "rnd_seed = random.random()\n",
    "rnd = random.Random(rnd_seed)\n",
    "\n",
    "lst :list[list[int,int]] = []\n",
    "speech_list = glob.glob(\"data/speech/\" + mode + \"/**/*.wav\",recursive=True)\n",
    "noise_list = glob.glob(\"data/noise/\" + mode + \"/**/*.wav\",recursive=True)\n",
    "print(len(speech_list))\n",
    "\n",
    "for file in tqdm(speech_list):\n",
    "\tframes = torchaudio.info(file).num_frames\n",
    "\tlst.append([frames,file])\n",
    "\n",
    "#Sort by num_frames, in descending order\n",
    "lst.sort(key=lambda x: x[0], reverse=is_descending)\n",
    "\n",
    "speech = 0\n",
    "noise = 0\n",
    "for _, file in tqdm(lst[0:1]):\n",
    "\tspeech, _ = torchaudio.load(file, format=\"wav\", normalize=False)\n",
    "\tnoise_file = rnd.choice(noise_list)\n",
    "\tnoise, _ = torchaudio.load(noise_file, format=\"wav\", normalize=False)\n",
    "\tlength_diff = noise.shape[1] - speech.shape[1]\n",
    "\toffset = rnd.randint(0,length_diff)\n",
    "\tnoise = noise[:,offset:offset+speech.shape[1]]\n",
    "\tprint(speech.shape)\n",
    "\tprint(noise.shape)\n",
    "\n",
    "Audio(speech.numpy()[0],rate=16000)\n",
    "# Audio(noise.numpy()[0],rate=16000)\n",
    "\n",
    "\n",
    "\n",
    "\n"
   ]
  },
  {
   "cell_type": "code",
   "execution_count": null,
   "metadata": {},
   "outputs": [
    {
     "ename": "TypeError",
     "evalue": "list indices must be integers or slices, not tuple",
     "output_type": "error",
     "traceback": [
      "\u001b[1;31m---------------------------------------------------------------------------\u001b[0m",
      "\u001b[1;31mTypeError\u001b[0m                                 Traceback (most recent call last)",
      "Cell \u001b[1;32mIn[17], line 1\u001b[0m\n\u001b[1;32m----> 1\u001b[0m \u001b[38;5;28mprint\u001b[39m(\u001b[43mlst\u001b[49m\u001b[43m[\u001b[49m\u001b[43m:\u001b[49m\u001b[38;5;241;43m10\u001b[39;49m\u001b[43m,\u001b[49m\u001b[38;5;241;43m0\u001b[39;49m\u001b[43m]\u001b[49m)\n",
      "\u001b[1;31mTypeError\u001b[0m: list indices must be integers or slices, not tuple"
     ]
    }
   ],
   "source": [
    "print(lst[:10])"
   ]
  }
 ],
 "metadata": {
  "kernelspec": {
   "display_name": "fyp",
   "language": "python",
   "name": "python3"
  },
  "language_info": {
   "codemirror_mode": {
    "name": "ipython",
    "version": 3
   },
   "file_extension": ".py",
   "mimetype": "text/x-python",
   "name": "python",
   "nbconvert_exporter": "python",
   "pygments_lexer": "ipython3",
   "version": "3.12.0"
  }
 },
 "nbformat": 4,
 "nbformat_minor": 2
}
