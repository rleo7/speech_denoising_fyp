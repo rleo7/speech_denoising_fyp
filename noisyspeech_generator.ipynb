{
 "cells": [
  {
   "cell_type": "code",
   "execution_count": 7,
   "metadata": {},
   "outputs": [
    {
     "name": "stdout",
     "output_type": "stream",
     "text": [
      "Requirement already satisfied: soundfile in c:\\users\\leoro\\appdata\\local\\programs\\python\\python312\\lib\\site-packages (from -r requirements.txt (line 1)) (0.13.1)\n",
      "Requirement already satisfied: torch in c:\\users\\leoro\\appdata\\local\\programs\\python\\python312\\lib\\site-packages (from -r c:\\Uni\\FYP\\torch_requirements.txt (line 1)) (2.6.0)\n",
      "Requirement already satisfied: torchaudio in c:\\users\\leoro\\appdata\\local\\programs\\python\\python312\\lib\\site-packages (from -r c:\\Uni\\FYP\\torch_requirements.txt (line 2)) (2.6.0)\n",
      "Requirement already satisfied: cffi>=1.0 in c:\\users\\leoro\\appdata\\local\\programs\\python\\python312\\lib\\site-packages (from soundfile->-r requirements.txt (line 1)) (1.17.1)\n",
      "Requirement already satisfied: numpy in c:\\users\\leoro\\appdata\\local\\programs\\python\\python312\\lib\\site-packages (from soundfile->-r requirements.txt (line 1)) (1.26.4)\n",
      "Requirement already satisfied: filelock in c:\\users\\leoro\\appdata\\local\\programs\\python\\python312\\lib\\site-packages (from torch->-r c:\\Uni\\FYP\\torch_requirements.txt (line 1)) (3.14.0)\n",
      "Requirement already satisfied: typing-extensions>=4.10.0 in c:\\users\\leoro\\appdata\\local\\programs\\python\\python312\\lib\\site-packages (from torch->-r c:\\Uni\\FYP\\torch_requirements.txt (line 1)) (4.11.0)\n",
      "Requirement already satisfied: networkx in c:\\users\\leoro\\appdata\\local\\programs\\python\\python312\\lib\\site-packages (from torch->-r c:\\Uni\\FYP\\torch_requirements.txt (line 1)) (3.3)\n",
      "Requirement already satisfied: jinja2 in c:\\users\\leoro\\appdata\\local\\programs\\python\\python312\\lib\\site-packages (from torch->-r c:\\Uni\\FYP\\torch_requirements.txt (line 1)) (3.1.3)\n",
      "Requirement already satisfied: fsspec in c:\\users\\leoro\\appdata\\local\\programs\\python\\python312\\lib\\site-packages (from torch->-r c:\\Uni\\FYP\\torch_requirements.txt (line 1)) (2024.3.1)\n",
      "Requirement already satisfied: setuptools in c:\\users\\leoro\\appdata\\local\\programs\\python\\python312\\lib\\site-packages (from torch->-r c:\\Uni\\FYP\\torch_requirements.txt (line 1)) (70.2.0)\n",
      "Requirement already satisfied: sympy==1.13.1 in c:\\users\\leoro\\appdata\\local\\programs\\python\\python312\\lib\\site-packages (from torch->-r c:\\Uni\\FYP\\torch_requirements.txt (line 1)) (1.13.1)\n",
      "Requirement already satisfied: mpmath<1.4,>=1.1.0 in c:\\users\\leoro\\appdata\\local\\programs\\python\\python312\\lib\\site-packages (from sympy==1.13.1->torch->-r c:\\Uni\\FYP\\torch_requirements.txt (line 1)) (1.3.0)\n",
      "Requirement already satisfied: pycparser in c:\\users\\leoro\\appdata\\local\\programs\\python\\python312\\lib\\site-packages (from cffi>=1.0->soundfile->-r requirements.txt (line 1)) (2.22)\n",
      "Requirement already satisfied: MarkupSafe>=2.0 in c:\\users\\leoro\\appdata\\local\\programs\\python\\python312\\lib\\site-packages (from jinja2->torch->-r c:\\Uni\\FYP\\torch_requirements.txt (line 1)) (2.1.5)\n",
      "Note: you may need to restart the kernel to use updated packages.\n"
     ]
    },
    {
     "name": "stderr",
     "output_type": "stream",
     "text": [
      "\n",
      "[notice] A new release of pip is available: 24.3.1 -> 25.0\n",
      "[notice] To update, run: python.exe -m pip install --upgrade pip\n"
     ]
    }
   ],
   "source": [
    "%pip install -r requirements.txt"
   ]
  },
  {
   "cell_type": "code",
   "execution_count": 11,
   "metadata": {},
   "outputs": [],
   "source": [
    "import os, random, glob, ntpath\n",
    "import create_mixed_audio_file_with_soundfile\n",
    "# from create_mixed_audio_file_with_soundfile import combine_audio\n",
    "\n",
    "speech_folder = {\n",
    "    \"train\": \"data/train/speech\",\n",
    "    \"test\": \"data/test/speech\",\n",
    "}\n",
    "noise_folder = {\n",
    "    \"train\": \"data/train/noise\",\n",
    "    \"test\": \"data/test/noise\"\n",
    "}\n",
    "mixed_folder = {\n",
    "    \"train\": \"data/train/mixed\",\n",
    "    \"test\": \"data/test/mixed\"\n",
    "}\n",
    "\n",
    "def run_combine(mode: str, snr: int, rnd_seed = None):\n",
    "    if rnd_seed is not None:\n",
    "        random.seed(rnd_seed)\n",
    "    speech_list = glob.glob(speech_folder[\"train\"] + \"/*.wav\")\n",
    "    noise_list = glob.glob(noise_folder[\"train\"] + \"/*.wav\")\n",
    "\n",
    "    for speech_file in speech_list:\n",
    "        noise_file = random.choice(noise_list)\n",
    "\n",
    "        speech_name = ntpath.basename(speech_file).removesuffix(\".wav\")\n",
    "        noise_name = ntpath.basename(noise_file).removesuffix(\".wav\")\n",
    "        output_path = f\"{mixed_folder[\"train\"]}/{speech_name}_{noise_name}.wav\"\n",
    "\n",
    "        create_mixed_audio_file_with_soundfile.combine_audio(speech_file, noise_file,snr,output_path)"
   ]
  },
  {
   "cell_type": "code",
   "execution_count": 13,
   "metadata": {},
   "outputs": [],
   "source": [
    "\n",
    "run_combine(\"train\",-10)"
   ]
  }
 ],
 "metadata": {
  "kernelspec": {
   "display_name": "Python 3",
   "language": "python",
   "name": "python3"
  },
  "language_info": {
   "codemirror_mode": {
    "name": "ipython",
    "version": 3
   },
   "file_extension": ".py",
   "mimetype": "text/x-python",
   "name": "python",
   "nbconvert_exporter": "python",
   "pygments_lexer": "ipython3",
   "version": "3.12.0"
  }
 },
 "nbformat": 4,
 "nbformat_minor": 2
}
